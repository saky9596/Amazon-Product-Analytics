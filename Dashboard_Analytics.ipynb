{
 "cells": [
  {
   "cell_type": "code",
   "execution_count": 1,
   "metadata": {},
   "outputs": [],
   "source": [
    "#Input the filename here\n",
    "filepath=\"yoga mat.csv\""
   ]
  },
  {
   "cell_type": "code",
   "execution_count": 3,
   "metadata": {},
   "outputs": [
    {
     "data": {
      "application/vnd.plotly.v1+json": {
       "config": {
        "plotlyServerURL": "https://plot.ly"
       },
       "data": [
        {
         "domain": {
          "x": [
           0,
           0.45
          ],
          "y": [
           0,
           1
          ]
         },
         "labels": [
          "Mahadev Traders",
          "ANURATI",
          "Fitness Mantra",
          "UNIQUE DECOR",
          "Effingo",
          "Effingo",
          "Effingo",
          "SOLARA",
          "Effingo",
          "Karma",
          "CRAFT OF INDIA",
          "FEGSY",
          "Fitness Mantra",
          "REXERA",
          "REXERA",
          "BOSTER",
          "IVAZA",
          "LET'S PLAY",
          "QUICK SHEL",
          "FEGSY",
          "FEGSY",
          "Dr Trust",
          "Effingo",
          "Yoga Land",
          "Generic",
          "VIFITKIT",
          "Puma",
          "YOGARISE",
          "Ozoy",
          "Fitness Mantra",
          "BeFit",
          "XTROKE",
          "YOGARISE",
          "Boldfit",
          "Amazon Brand - Solimo",
          "Boldfit",
          "Fitness Mantra",
          "kossto",
          "SBZ - SHOPBOOZ",
          "Fitness Mantra",
          "Boldfit",
          "Boldfit",
          "YOGARISE",
          "Boldfit",
          "Roseate",
          "OJS",
          "Fitness Mantra",
          "Fitness Mantra",
          "AmazonBasics",
          "AmazonBasics",
          "Neerav Exports",
          "Mahadev Traders",
          "Mahadev Traders",
          "FamiFiT",
          "Mahadev Traders",
          "Fashion Paradise",
          "Shree Fashion Studio",
          "Mahadev Traders",
          "Rizzer",
          "Aradhya Fab"
         ],
         "textinfo": "percent+label",
         "textposition": "inside",
         "title": {
          "text": "Revenue Market Distribution including Outliers"
         },
         "type": "pie",
         "values": [
          67445,
          36708,
          122475,
          8982,
          86697,
          98058,
          360928.75,
          665924,
          360928.75,
          227088,
          360928.75,
          250749,
          352849,
          115430,
          164220,
          360928.75,
          504169,
          56943,
          6460,
          406721,
          406721,
          1825095,
          169400,
          185976,
          127600,
          416313,
          173990,
          349322,
          1422218,
          278080,
          772452,
          585333,
          552178,
          1371830.4,
          781884,
          369008.5,
          400925,
          1078799,
          50367,
          405790,
          1502290.1,
          1502290.1,
          723384,
          2264695.5,
          1055385,
          1308645,
          859125,
          910321,
          1827738,
          1418248,
          360928.75,
          28294,
          17641,
          3380,
          360928.75,
          18403,
          699,
          360928.75,
          360928.75,
          8217
         ]
        },
        {
         "domain": {
          "x": [
           0.55,
           1
          ],
          "y": [
           0,
           1
          ]
         },
         "labels": [
          "Mahadev Traders",
          "ANURATI",
          "Fitness Mantra",
          "UNIQUE DECOR",
          "Effingo",
          "Effingo",
          "Effingo",
          "SOLARA",
          "Effingo",
          "Karma",
          "CRAFT OF INDIA",
          "FEGSY",
          "Fitness Mantra",
          "REXERA",
          "REXERA",
          "BOSTER",
          "IVAZA",
          "LET'S PLAY",
          "QUICK SHEL",
          "FEGSY",
          "FEGSY",
          "Effingo",
          "Yoga Land",
          "Generic",
          "VIFITKIT",
          "Puma",
          "YOGARISE",
          "Ozoy",
          "Fitness Mantra",
          "BeFit",
          "XTROKE",
          "YOGARISE",
          "Boldfit",
          "Amazon Brand - Solimo",
          "Boldfit",
          "Fitness Mantra",
          "kossto",
          "SBZ - SHOPBOOZ",
          "Neerav Exports",
          "Mahadev Traders",
          "Mahadev Traders",
          "FamiFiT",
          "Mahadev Traders",
          "Fashion Paradise",
          "Shree Fashion Studio",
          "Mahadev Traders",
          "Rizzer",
          "Aradhya Fab"
         ],
         "textinfo": "percent+label",
         "textposition": "inside",
         "title": {
          "text": "Revenue Market Distribution excluding Outliers"
         },
         "type": "pie",
         "values": [
          67445,
          36708,
          122475,
          8982,
          86697,
          98058,
          360928.75,
          665924,
          360928.75,
          227088,
          360928.75,
          250749,
          352849,
          115430,
          164220,
          360928.75,
          504169,
          56943,
          6460,
          406721,
          406721,
          169400,
          185976,
          127600,
          416313,
          173990,
          349322,
          1422218,
          278080,
          772452,
          585333,
          552178,
          1371830.4,
          781884,
          369008.5,
          400925,
          1078799,
          50367,
          360928.75,
          28294,
          17641,
          3380,
          360928.75,
          18403,
          699,
          360928.75,
          360928.75,
          8217
         ]
        }
       ],
       "layout": {
        "template": {
         "data": {
          "bar": [
           {
            "error_x": {
             "color": "#2a3f5f"
            },
            "error_y": {
             "color": "#2a3f5f"
            },
            "marker": {
             "line": {
              "color": "#E5ECF6",
              "width": 0.5
             }
            },
            "type": "bar"
           }
          ],
          "barpolar": [
           {
            "marker": {
             "line": {
              "color": "#E5ECF6",
              "width": 0.5
             }
            },
            "type": "barpolar"
           }
          ],
          "carpet": [
           {
            "aaxis": {
             "endlinecolor": "#2a3f5f",
             "gridcolor": "white",
             "linecolor": "white",
             "minorgridcolor": "white",
             "startlinecolor": "#2a3f5f"
            },
            "baxis": {
             "endlinecolor": "#2a3f5f",
             "gridcolor": "white",
             "linecolor": "white",
             "minorgridcolor": "white",
             "startlinecolor": "#2a3f5f"
            },
            "type": "carpet"
           }
          ],
          "choropleth": [
           {
            "colorbar": {
             "outlinewidth": 0,
             "ticks": ""
            },
            "type": "choropleth"
           }
          ],
          "contour": [
           {
            "colorbar": {
             "outlinewidth": 0,
             "ticks": ""
            },
            "colorscale": [
             [
              0,
              "#0d0887"
             ],
             [
              0.1111111111111111,
              "#46039f"
             ],
             [
              0.2222222222222222,
              "#7201a8"
             ],
             [
              0.3333333333333333,
              "#9c179e"
             ],
             [
              0.4444444444444444,
              "#bd3786"
             ],
             [
              0.5555555555555556,
              "#d8576b"
             ],
             [
              0.6666666666666666,
              "#ed7953"
             ],
             [
              0.7777777777777778,
              "#fb9f3a"
             ],
             [
              0.8888888888888888,
              "#fdca26"
             ],
             [
              1,
              "#f0f921"
             ]
            ],
            "type": "contour"
           }
          ],
          "contourcarpet": [
           {
            "colorbar": {
             "outlinewidth": 0,
             "ticks": ""
            },
            "type": "contourcarpet"
           }
          ],
          "heatmap": [
           {
            "colorbar": {
             "outlinewidth": 0,
             "ticks": ""
            },
            "colorscale": [
             [
              0,
              "#0d0887"
             ],
             [
              0.1111111111111111,
              "#46039f"
             ],
             [
              0.2222222222222222,
              "#7201a8"
             ],
             [
              0.3333333333333333,
              "#9c179e"
             ],
             [
              0.4444444444444444,
              "#bd3786"
             ],
             [
              0.5555555555555556,
              "#d8576b"
             ],
             [
              0.6666666666666666,
              "#ed7953"
             ],
             [
              0.7777777777777778,
              "#fb9f3a"
             ],
             [
              0.8888888888888888,
              "#fdca26"
             ],
             [
              1,
              "#f0f921"
             ]
            ],
            "type": "heatmap"
           }
          ],
          "heatmapgl": [
           {
            "colorbar": {
             "outlinewidth": 0,
             "ticks": ""
            },
            "colorscale": [
             [
              0,
              "#0d0887"
             ],
             [
              0.1111111111111111,
              "#46039f"
             ],
             [
              0.2222222222222222,
              "#7201a8"
             ],
             [
              0.3333333333333333,
              "#9c179e"
             ],
             [
              0.4444444444444444,
              "#bd3786"
             ],
             [
              0.5555555555555556,
              "#d8576b"
             ],
             [
              0.6666666666666666,
              "#ed7953"
             ],
             [
              0.7777777777777778,
              "#fb9f3a"
             ],
             [
              0.8888888888888888,
              "#fdca26"
             ],
             [
              1,
              "#f0f921"
             ]
            ],
            "type": "heatmapgl"
           }
          ],
          "histogram": [
           {
            "marker": {
             "colorbar": {
              "outlinewidth": 0,
              "ticks": ""
             }
            },
            "type": "histogram"
           }
          ],
          "histogram2d": [
           {
            "colorbar": {
             "outlinewidth": 0,
             "ticks": ""
            },
            "colorscale": [
             [
              0,
              "#0d0887"
             ],
             [
              0.1111111111111111,
              "#46039f"
             ],
             [
              0.2222222222222222,
              "#7201a8"
             ],
             [
              0.3333333333333333,
              "#9c179e"
             ],
             [
              0.4444444444444444,
              "#bd3786"
             ],
             [
              0.5555555555555556,
              "#d8576b"
             ],
             [
              0.6666666666666666,
              "#ed7953"
             ],
             [
              0.7777777777777778,
              "#fb9f3a"
             ],
             [
              0.8888888888888888,
              "#fdca26"
             ],
             [
              1,
              "#f0f921"
             ]
            ],
            "type": "histogram2d"
           }
          ],
          "histogram2dcontour": [
           {
            "colorbar": {
             "outlinewidth": 0,
             "ticks": ""
            },
            "colorscale": [
             [
              0,
              "#0d0887"
             ],
             [
              0.1111111111111111,
              "#46039f"
             ],
             [
              0.2222222222222222,
              "#7201a8"
             ],
             [
              0.3333333333333333,
              "#9c179e"
             ],
             [
              0.4444444444444444,
              "#bd3786"
             ],
             [
              0.5555555555555556,
              "#d8576b"
             ],
             [
              0.6666666666666666,
              "#ed7953"
             ],
             [
              0.7777777777777778,
              "#fb9f3a"
             ],
             [
              0.8888888888888888,
              "#fdca26"
             ],
             [
              1,
              "#f0f921"
             ]
            ],
            "type": "histogram2dcontour"
           }
          ],
          "mesh3d": [
           {
            "colorbar": {
             "outlinewidth": 0,
             "ticks": ""
            },
            "type": "mesh3d"
           }
          ],
          "parcoords": [
           {
            "line": {
             "colorbar": {
              "outlinewidth": 0,
              "ticks": ""
             }
            },
            "type": "parcoords"
           }
          ],
          "pie": [
           {
            "automargin": true,
            "type": "pie"
           }
          ],
          "scatter": [
           {
            "marker": {
             "colorbar": {
              "outlinewidth": 0,
              "ticks": ""
             }
            },
            "type": "scatter"
           }
          ],
          "scatter3d": [
           {
            "line": {
             "colorbar": {
              "outlinewidth": 0,
              "ticks": ""
             }
            },
            "marker": {
             "colorbar": {
              "outlinewidth": 0,
              "ticks": ""
             }
            },
            "type": "scatter3d"
           }
          ],
          "scattercarpet": [
           {
            "marker": {
             "colorbar": {
              "outlinewidth": 0,
              "ticks": ""
             }
            },
            "type": "scattercarpet"
           }
          ],
          "scattergeo": [
           {
            "marker": {
             "colorbar": {
              "outlinewidth": 0,
              "ticks": ""
             }
            },
            "type": "scattergeo"
           }
          ],
          "scattergl": [
           {
            "marker": {
             "colorbar": {
              "outlinewidth": 0,
              "ticks": ""
             }
            },
            "type": "scattergl"
           }
          ],
          "scattermapbox": [
           {
            "marker": {
             "colorbar": {
              "outlinewidth": 0,
              "ticks": ""
             }
            },
            "type": "scattermapbox"
           }
          ],
          "scatterpolar": [
           {
            "marker": {
             "colorbar": {
              "outlinewidth": 0,
              "ticks": ""
             }
            },
            "type": "scatterpolar"
           }
          ],
          "scatterpolargl": [
           {
            "marker": {
             "colorbar": {
              "outlinewidth": 0,
              "ticks": ""
             }
            },
            "type": "scatterpolargl"
           }
          ],
          "scatterternary": [
           {
            "marker": {
             "colorbar": {
              "outlinewidth": 0,
              "ticks": ""
             }
            },
            "type": "scatterternary"
           }
          ],
          "surface": [
           {
            "colorbar": {
             "outlinewidth": 0,
             "ticks": ""
            },
            "colorscale": [
             [
              0,
              "#0d0887"
             ],
             [
              0.1111111111111111,
              "#46039f"
             ],
             [
              0.2222222222222222,
              "#7201a8"
             ],
             [
              0.3333333333333333,
              "#9c179e"
             ],
             [
              0.4444444444444444,
              "#bd3786"
             ],
             [
              0.5555555555555556,
              "#d8576b"
             ],
             [
              0.6666666666666666,
              "#ed7953"
             ],
             [
              0.7777777777777778,
              "#fb9f3a"
             ],
             [
              0.8888888888888888,
              "#fdca26"
             ],
             [
              1,
              "#f0f921"
             ]
            ],
            "type": "surface"
           }
          ],
          "table": [
           {
            "cells": {
             "fill": {
              "color": "#EBF0F8"
             },
             "line": {
              "color": "white"
             }
            },
            "header": {
             "fill": {
              "color": "#C8D4E3"
             },
             "line": {
              "color": "white"
             }
            },
            "type": "table"
           }
          ]
         },
         "layout": {
          "annotationdefaults": {
           "arrowcolor": "#2a3f5f",
           "arrowhead": 0,
           "arrowwidth": 1
          },
          "autotypenumbers": "strict",
          "coloraxis": {
           "colorbar": {
            "outlinewidth": 0,
            "ticks": ""
           }
          },
          "colorscale": {
           "diverging": [
            [
             0,
             "#8e0152"
            ],
            [
             0.1,
             "#c51b7d"
            ],
            [
             0.2,
             "#de77ae"
            ],
            [
             0.3,
             "#f1b6da"
            ],
            [
             0.4,
             "#fde0ef"
            ],
            [
             0.5,
             "#f7f7f7"
            ],
            [
             0.6,
             "#e6f5d0"
            ],
            [
             0.7,
             "#b8e186"
            ],
            [
             0.8,
             "#7fbc41"
            ],
            [
             0.9,
             "#4d9221"
            ],
            [
             1,
             "#276419"
            ]
           ],
           "sequential": [
            [
             0,
             "#0d0887"
            ],
            [
             0.1111111111111111,
             "#46039f"
            ],
            [
             0.2222222222222222,
             "#7201a8"
            ],
            [
             0.3333333333333333,
             "#9c179e"
            ],
            [
             0.4444444444444444,
             "#bd3786"
            ],
            [
             0.5555555555555556,
             "#d8576b"
            ],
            [
             0.6666666666666666,
             "#ed7953"
            ],
            [
             0.7777777777777778,
             "#fb9f3a"
            ],
            [
             0.8888888888888888,
             "#fdca26"
            ],
            [
             1,
             "#f0f921"
            ]
           ],
           "sequentialminus": [
            [
             0,
             "#0d0887"
            ],
            [
             0.1111111111111111,
             "#46039f"
            ],
            [
             0.2222222222222222,
             "#7201a8"
            ],
            [
             0.3333333333333333,
             "#9c179e"
            ],
            [
             0.4444444444444444,
             "#bd3786"
            ],
            [
             0.5555555555555556,
             "#d8576b"
            ],
            [
             0.6666666666666666,
             "#ed7953"
            ],
            [
             0.7777777777777778,
             "#fb9f3a"
            ],
            [
             0.8888888888888888,
             "#fdca26"
            ],
            [
             1,
             "#f0f921"
            ]
           ]
          },
          "colorway": [
           "#636efa",
           "#EF553B",
           "#00cc96",
           "#ab63fa",
           "#FFA15A",
           "#19d3f3",
           "#FF6692",
           "#B6E880",
           "#FF97FF",
           "#FECB52"
          ],
          "font": {
           "color": "#2a3f5f"
          },
          "geo": {
           "bgcolor": "white",
           "lakecolor": "white",
           "landcolor": "#E5ECF6",
           "showlakes": true,
           "showland": true,
           "subunitcolor": "white"
          },
          "hoverlabel": {
           "align": "left"
          },
          "hovermode": "closest",
          "mapbox": {
           "style": "light"
          },
          "paper_bgcolor": "white",
          "plot_bgcolor": "#E5ECF6",
          "polar": {
           "angularaxis": {
            "gridcolor": "white",
            "linecolor": "white",
            "ticks": ""
           },
           "bgcolor": "#E5ECF6",
           "radialaxis": {
            "gridcolor": "white",
            "linecolor": "white",
            "ticks": ""
           }
          },
          "scene": {
           "xaxis": {
            "backgroundcolor": "#E5ECF6",
            "gridcolor": "white",
            "gridwidth": 2,
            "linecolor": "white",
            "showbackground": true,
            "ticks": "",
            "zerolinecolor": "white"
           },
           "yaxis": {
            "backgroundcolor": "#E5ECF6",
            "gridcolor": "white",
            "gridwidth": 2,
            "linecolor": "white",
            "showbackground": true,
            "ticks": "",
            "zerolinecolor": "white"
           },
           "zaxis": {
            "backgroundcolor": "#E5ECF6",
            "gridcolor": "white",
            "gridwidth": 2,
            "linecolor": "white",
            "showbackground": true,
            "ticks": "",
            "zerolinecolor": "white"
           }
          },
          "shapedefaults": {
           "line": {
            "color": "#2a3f5f"
           }
          },
          "ternary": {
           "aaxis": {
            "gridcolor": "white",
            "linecolor": "white",
            "ticks": ""
           },
           "baxis": {
            "gridcolor": "white",
            "linecolor": "white",
            "ticks": ""
           },
           "bgcolor": "#E5ECF6",
           "caxis": {
            "gridcolor": "white",
            "linecolor": "white",
            "ticks": ""
           }
          },
          "title": {
           "x": 0.05
          },
          "xaxis": {
           "automargin": true,
           "gridcolor": "white",
           "linecolor": "white",
           "ticks": "",
           "title": {
            "standoff": 15
           },
           "zerolinecolor": "white",
           "zerolinewidth": 2
          },
          "yaxis": {
           "automargin": true,
           "gridcolor": "white",
           "linecolor": "white",
           "ticks": "",
           "title": {
            "standoff": 15
           },
           "zerolinecolor": "white",
           "zerolinewidth": 2
          }
         }
        }
       }
      },
      "text/html": [
       "<div>                            <div id=\"45f539c9-8999-4bdf-8d0d-d0bf7e50944f\" class=\"plotly-graph-div\" style=\"height:525px; width:100%;\"></div>            <script type=\"text/javascript\">                require([\"plotly\"], function(Plotly) {                    window.PLOTLYENV=window.PLOTLYENV || {};                                    if (document.getElementById(\"45f539c9-8999-4bdf-8d0d-d0bf7e50944f\")) {                    Plotly.newPlot(                        \"45f539c9-8999-4bdf-8d0d-d0bf7e50944f\",                        [{\"domain\": {\"x\": [0.0, 0.45], \"y\": [0.0, 1.0]}, \"labels\": [\"Mahadev Traders\", \"ANURATI\", \"Fitness Mantra\", \"UNIQUE DECOR\", \"Effingo\", \"Effingo\", \"Effingo\", \"SOLARA\", \"Effingo\", \"Karma\", \"CRAFT OF INDIA\", \"FEGSY\", \"Fitness Mantra\", \"REXERA\", \"REXERA\", \"BOSTER\", \"IVAZA\", \"LET'S PLAY\", \"QUICK SHEL\", \"FEGSY\", \"FEGSY\", \"Dr Trust\", \"Effingo\", \"Yoga Land\", \"Generic\", \"VIFITKIT\", \"Puma\", \"YOGARISE\", \"Ozoy\", \"Fitness Mantra\", \"BeFit\", \"XTROKE\", \"YOGARISE\", \"Boldfit\", \"Amazon Brand - Solimo\", \"Boldfit\", \"Fitness Mantra\", \"kossto\", \"SBZ - SHOPBOOZ\", \"Fitness Mantra\", \"Boldfit\", \"Boldfit\", \"YOGARISE\", \"Boldfit\", \"Roseate\", \"OJS\", \"Fitness Mantra\", \"Fitness Mantra\", \"AmazonBasics\", \"AmazonBasics\", \"Neerav Exports\", \"Mahadev Traders\", \"Mahadev Traders\", \"FamiFiT\", \"Mahadev Traders\", \"Fashion Paradise\", \"Shree Fashion Studio\", \"Mahadev Traders\", \"Rizzer\", \"Aradhya Fab\"], \"textinfo\": \"percent+label\", \"textposition\": \"inside\", \"title\": {\"text\": \"Revenue Market Distribution including Outliers\"}, \"type\": \"pie\", \"values\": [67445.0, 36708.0, 122475.0, 8982.0, 86697.0, 98058.0, 360928.75, 665924.0, 360928.75, 227088.0, 360928.75, 250749.0, 352849.0, 115430.0, 164220.0, 360928.75, 504169.0, 56943.0, 6460.0, 406721.0, 406721.0, 1825095.0, 169400.0, 185976.0, 127600.0, 416313.0, 173990.0, 349322.0, 1422218.0, 278080.0, 772452.0, 585333.0, 552178.0, 1371830.4, 781884.0, 369008.5, 400925.0, 1078799.0, 50367.0, 405790.0, 1502290.1, 1502290.1, 723384.0, 2264695.5, 1055385.0, 1308645.0, 859125.0, 910321.0, 1827738.0, 1418248.0, 360928.75, 28294.0, 17641.0, 3380.0, 360928.75, 18403.0, 699.0, 360928.75, 360928.75, 8217.0]}, {\"domain\": {\"x\": [0.55, 1.0], \"y\": [0.0, 1.0]}, \"labels\": [\"Mahadev Traders\", \"ANURATI\", \"Fitness Mantra\", \"UNIQUE DECOR\", \"Effingo\", \"Effingo\", \"Effingo\", \"SOLARA\", \"Effingo\", \"Karma\", \"CRAFT OF INDIA\", \"FEGSY\", \"Fitness Mantra\", \"REXERA\", \"REXERA\", \"BOSTER\", \"IVAZA\", \"LET'S PLAY\", \"QUICK SHEL\", \"FEGSY\", \"FEGSY\", \"Effingo\", \"Yoga Land\", \"Generic\", \"VIFITKIT\", \"Puma\", \"YOGARISE\", \"Ozoy\", \"Fitness Mantra\", \"BeFit\", \"XTROKE\", \"YOGARISE\", \"Boldfit\", \"Amazon Brand - Solimo\", \"Boldfit\", \"Fitness Mantra\", \"kossto\", \"SBZ - SHOPBOOZ\", \"Neerav Exports\", \"Mahadev Traders\", \"Mahadev Traders\", \"FamiFiT\", \"Mahadev Traders\", \"Fashion Paradise\", \"Shree Fashion Studio\", \"Mahadev Traders\", \"Rizzer\", \"Aradhya Fab\"], \"textinfo\": \"percent+label\", \"textposition\": \"inside\", \"title\": {\"text\": \"Revenue Market Distribution excluding Outliers\"}, \"type\": \"pie\", \"values\": [67445.0, 36708.0, 122475.0, 8982.0, 86697.0, 98058.0, 360928.75, 665924.0, 360928.75, 227088.0, 360928.75, 250749.0, 352849.0, 115430.0, 164220.0, 360928.75, 504169.0, 56943.0, 6460.0, 406721.0, 406721.0, 169400.0, 185976.0, 127600.0, 416313.0, 173990.0, 349322.0, 1422218.0, 278080.0, 772452.0, 585333.0, 552178.0, 1371830.4, 781884.0, 369008.5, 400925.0, 1078799.0, 50367.0, 360928.75, 28294.0, 17641.0, 3380.0, 360928.75, 18403.0, 699.0, 360928.75, 360928.75, 8217.0]}],                        {\"template\": {\"data\": {\"bar\": [{\"error_x\": {\"color\": \"#2a3f5f\"}, \"error_y\": {\"color\": \"#2a3f5f\"}, \"marker\": {\"line\": {\"color\": \"#E5ECF6\", \"width\": 0.5}}, \"type\": \"bar\"}], \"barpolar\": [{\"marker\": {\"line\": {\"color\": \"#E5ECF6\", \"width\": 0.5}}, \"type\": \"barpolar\"}], \"carpet\": [{\"aaxis\": {\"endlinecolor\": \"#2a3f5f\", \"gridcolor\": \"white\", \"linecolor\": \"white\", \"minorgridcolor\": \"white\", \"startlinecolor\": \"#2a3f5f\"}, \"baxis\": {\"endlinecolor\": \"#2a3f5f\", \"gridcolor\": \"white\", \"linecolor\": \"white\", \"minorgridcolor\": \"white\", \"startlinecolor\": \"#2a3f5f\"}, \"type\": \"carpet\"}], \"choropleth\": [{\"colorbar\": {\"outlinewidth\": 0, \"ticks\": \"\"}, \"type\": \"choropleth\"}], \"contour\": [{\"colorbar\": {\"outlinewidth\": 0, \"ticks\": \"\"}, \"colorscale\": [[0.0, \"#0d0887\"], [0.1111111111111111, \"#46039f\"], [0.2222222222222222, \"#7201a8\"], [0.3333333333333333, \"#9c179e\"], [0.4444444444444444, \"#bd3786\"], [0.5555555555555556, \"#d8576b\"], [0.6666666666666666, \"#ed7953\"], [0.7777777777777778, \"#fb9f3a\"], [0.8888888888888888, \"#fdca26\"], [1.0, \"#f0f921\"]], \"type\": \"contour\"}], \"contourcarpet\": [{\"colorbar\": {\"outlinewidth\": 0, \"ticks\": \"\"}, \"type\": \"contourcarpet\"}], \"heatmap\": [{\"colorbar\": {\"outlinewidth\": 0, \"ticks\": \"\"}, \"colorscale\": [[0.0, \"#0d0887\"], [0.1111111111111111, \"#46039f\"], [0.2222222222222222, \"#7201a8\"], [0.3333333333333333, \"#9c179e\"], [0.4444444444444444, \"#bd3786\"], [0.5555555555555556, \"#d8576b\"], [0.6666666666666666, \"#ed7953\"], [0.7777777777777778, \"#fb9f3a\"], [0.8888888888888888, \"#fdca26\"], [1.0, \"#f0f921\"]], \"type\": \"heatmap\"}], \"heatmapgl\": [{\"colorbar\": {\"outlinewidth\": 0, \"ticks\": \"\"}, \"colorscale\": [[0.0, \"#0d0887\"], [0.1111111111111111, \"#46039f\"], [0.2222222222222222, \"#7201a8\"], [0.3333333333333333, \"#9c179e\"], [0.4444444444444444, \"#bd3786\"], [0.5555555555555556, \"#d8576b\"], [0.6666666666666666, \"#ed7953\"], [0.7777777777777778, \"#fb9f3a\"], [0.8888888888888888, \"#fdca26\"], [1.0, \"#f0f921\"]], \"type\": \"heatmapgl\"}], \"histogram\": [{\"marker\": {\"colorbar\": {\"outlinewidth\": 0, \"ticks\": \"\"}}, \"type\": \"histogram\"}], \"histogram2d\": [{\"colorbar\": {\"outlinewidth\": 0, \"ticks\": \"\"}, \"colorscale\": [[0.0, \"#0d0887\"], [0.1111111111111111, \"#46039f\"], [0.2222222222222222, \"#7201a8\"], [0.3333333333333333, \"#9c179e\"], [0.4444444444444444, \"#bd3786\"], [0.5555555555555556, \"#d8576b\"], [0.6666666666666666, \"#ed7953\"], [0.7777777777777778, \"#fb9f3a\"], [0.8888888888888888, \"#fdca26\"], [1.0, \"#f0f921\"]], \"type\": \"histogram2d\"}], \"histogram2dcontour\": [{\"colorbar\": {\"outlinewidth\": 0, \"ticks\": \"\"}, \"colorscale\": [[0.0, \"#0d0887\"], [0.1111111111111111, \"#46039f\"], [0.2222222222222222, \"#7201a8\"], [0.3333333333333333, \"#9c179e\"], [0.4444444444444444, \"#bd3786\"], [0.5555555555555556, \"#d8576b\"], [0.6666666666666666, \"#ed7953\"], [0.7777777777777778, \"#fb9f3a\"], [0.8888888888888888, \"#fdca26\"], [1.0, \"#f0f921\"]], \"type\": \"histogram2dcontour\"}], \"mesh3d\": [{\"colorbar\": {\"outlinewidth\": 0, \"ticks\": \"\"}, \"type\": \"mesh3d\"}], \"parcoords\": [{\"line\": {\"colorbar\": {\"outlinewidth\": 0, \"ticks\": \"\"}}, \"type\": \"parcoords\"}], \"pie\": [{\"automargin\": true, \"type\": \"pie\"}], \"scatter\": [{\"marker\": {\"colorbar\": {\"outlinewidth\": 0, \"ticks\": \"\"}}, \"type\": \"scatter\"}], \"scatter3d\": [{\"line\": {\"colorbar\": {\"outlinewidth\": 0, \"ticks\": \"\"}}, \"marker\": {\"colorbar\": {\"outlinewidth\": 0, \"ticks\": \"\"}}, \"type\": \"scatter3d\"}], \"scattercarpet\": [{\"marker\": {\"colorbar\": {\"outlinewidth\": 0, \"ticks\": \"\"}}, \"type\": \"scattercarpet\"}], \"scattergeo\": [{\"marker\": {\"colorbar\": {\"outlinewidth\": 0, \"ticks\": \"\"}}, \"type\": \"scattergeo\"}], \"scattergl\": [{\"marker\": {\"colorbar\": {\"outlinewidth\": 0, \"ticks\": \"\"}}, \"type\": \"scattergl\"}], \"scattermapbox\": [{\"marker\": {\"colorbar\": {\"outlinewidth\": 0, \"ticks\": \"\"}}, \"type\": \"scattermapbox\"}], \"scatterpolar\": [{\"marker\": {\"colorbar\": {\"outlinewidth\": 0, \"ticks\": \"\"}}, \"type\": \"scatterpolar\"}], \"scatterpolargl\": [{\"marker\": {\"colorbar\": {\"outlinewidth\": 0, \"ticks\": \"\"}}, \"type\": \"scatterpolargl\"}], \"scatterternary\": [{\"marker\": {\"colorbar\": {\"outlinewidth\": 0, \"ticks\": \"\"}}, \"type\": \"scatterternary\"}], \"surface\": [{\"colorbar\": {\"outlinewidth\": 0, \"ticks\": \"\"}, \"colorscale\": [[0.0, \"#0d0887\"], [0.1111111111111111, \"#46039f\"], [0.2222222222222222, \"#7201a8\"], [0.3333333333333333, \"#9c179e\"], [0.4444444444444444, \"#bd3786\"], [0.5555555555555556, \"#d8576b\"], [0.6666666666666666, \"#ed7953\"], [0.7777777777777778, \"#fb9f3a\"], [0.8888888888888888, \"#fdca26\"], [1.0, \"#f0f921\"]], \"type\": \"surface\"}], \"table\": [{\"cells\": {\"fill\": {\"color\": \"#EBF0F8\"}, \"line\": {\"color\": \"white\"}}, \"header\": {\"fill\": {\"color\": \"#C8D4E3\"}, \"line\": {\"color\": \"white\"}}, \"type\": \"table\"}]}, \"layout\": {\"annotationdefaults\": {\"arrowcolor\": \"#2a3f5f\", \"arrowhead\": 0, \"arrowwidth\": 1}, \"autotypenumbers\": \"strict\", \"coloraxis\": {\"colorbar\": {\"outlinewidth\": 0, \"ticks\": \"\"}}, \"colorscale\": {\"diverging\": [[0, \"#8e0152\"], [0.1, \"#c51b7d\"], [0.2, \"#de77ae\"], [0.3, \"#f1b6da\"], [0.4, \"#fde0ef\"], [0.5, \"#f7f7f7\"], [0.6, \"#e6f5d0\"], [0.7, \"#b8e186\"], [0.8, \"#7fbc41\"], [0.9, \"#4d9221\"], [1, \"#276419\"]], \"sequential\": [[0.0, \"#0d0887\"], [0.1111111111111111, \"#46039f\"], [0.2222222222222222, \"#7201a8\"], [0.3333333333333333, \"#9c179e\"], [0.4444444444444444, \"#bd3786\"], [0.5555555555555556, \"#d8576b\"], [0.6666666666666666, \"#ed7953\"], [0.7777777777777778, \"#fb9f3a\"], [0.8888888888888888, \"#fdca26\"], [1.0, \"#f0f921\"]], \"sequentialminus\": [[0.0, \"#0d0887\"], [0.1111111111111111, \"#46039f\"], [0.2222222222222222, \"#7201a8\"], [0.3333333333333333, \"#9c179e\"], [0.4444444444444444, \"#bd3786\"], [0.5555555555555556, \"#d8576b\"], [0.6666666666666666, \"#ed7953\"], [0.7777777777777778, \"#fb9f3a\"], [0.8888888888888888, \"#fdca26\"], [1.0, \"#f0f921\"]]}, \"colorway\": [\"#636efa\", \"#EF553B\", \"#00cc96\", \"#ab63fa\", \"#FFA15A\", \"#19d3f3\", \"#FF6692\", \"#B6E880\", \"#FF97FF\", \"#FECB52\"], \"font\": {\"color\": \"#2a3f5f\"}, \"geo\": {\"bgcolor\": \"white\", \"lakecolor\": \"white\", \"landcolor\": \"#E5ECF6\", \"showlakes\": true, \"showland\": true, \"subunitcolor\": \"white\"}, \"hoverlabel\": {\"align\": \"left\"}, \"hovermode\": \"closest\", \"mapbox\": {\"style\": \"light\"}, \"paper_bgcolor\": \"white\", \"plot_bgcolor\": \"#E5ECF6\", \"polar\": {\"angularaxis\": {\"gridcolor\": \"white\", \"linecolor\": \"white\", \"ticks\": \"\"}, \"bgcolor\": \"#E5ECF6\", \"radialaxis\": {\"gridcolor\": \"white\", \"linecolor\": \"white\", \"ticks\": \"\"}}, \"scene\": {\"xaxis\": {\"backgroundcolor\": \"#E5ECF6\", \"gridcolor\": \"white\", \"gridwidth\": 2, \"linecolor\": \"white\", \"showbackground\": true, \"ticks\": \"\", \"zerolinecolor\": \"white\"}, \"yaxis\": {\"backgroundcolor\": \"#E5ECF6\", \"gridcolor\": \"white\", \"gridwidth\": 2, \"linecolor\": \"white\", \"showbackground\": true, \"ticks\": \"\", \"zerolinecolor\": \"white\"}, \"zaxis\": {\"backgroundcolor\": \"#E5ECF6\", \"gridcolor\": \"white\", \"gridwidth\": 2, \"linecolor\": \"white\", \"showbackground\": true, \"ticks\": \"\", \"zerolinecolor\": \"white\"}}, \"shapedefaults\": {\"line\": {\"color\": \"#2a3f5f\"}}, \"ternary\": {\"aaxis\": {\"gridcolor\": \"white\", \"linecolor\": \"white\", \"ticks\": \"\"}, \"baxis\": {\"gridcolor\": \"white\", \"linecolor\": \"white\", \"ticks\": \"\"}, \"bgcolor\": \"#E5ECF6\", \"caxis\": {\"gridcolor\": \"white\", \"linecolor\": \"white\", \"ticks\": \"\"}}, \"title\": {\"x\": 0.05}, \"xaxis\": {\"automargin\": true, \"gridcolor\": \"white\", \"linecolor\": \"white\", \"ticks\": \"\", \"title\": {\"standoff\": 15}, \"zerolinecolor\": \"white\", \"zerolinewidth\": 2}, \"yaxis\": {\"automargin\": true, \"gridcolor\": \"white\", \"linecolor\": \"white\", \"ticks\": \"\", \"title\": {\"standoff\": 15}, \"zerolinecolor\": \"white\", \"zerolinewidth\": 2}}}},                        {\"responsive\": true}                    ).then(function(){\n",
       "                            \n",
       "var gd = document.getElementById('45f539c9-8999-4bdf-8d0d-d0bf7e50944f');\n",
       "var x = new MutationObserver(function (mutations, observer) {{\n",
       "        var display = window.getComputedStyle(gd).display;\n",
       "        if (!display || display === 'none') {{\n",
       "            console.log([gd, 'removed!']);\n",
       "            Plotly.purge(gd);\n",
       "            observer.disconnect();\n",
       "        }}\n",
       "}});\n",
       "\n",
       "// Listen for the removal of the full notebook cells\n",
       "var notebookContainer = gd.closest('#notebook-container');\n",
       "if (notebookContainer) {{\n",
       "    x.observe(notebookContainer, {childList: true});\n",
       "}}\n",
       "\n",
       "// Listen for the clearing of the current output cell\n",
       "var outputEl = gd.closest('.output');\n",
       "if (outputEl) {{\n",
       "    x.observe(outputEl, {childList: true});\n",
       "}}\n",
       "\n",
       "                        })                };                });            </script>        </div>"
      ]
     },
     "metadata": {},
     "output_type": "display_data"
    },
    {
     "data": {
      "application/vnd.plotly.v1+json": {
       "config": {
        "plotlyServerURL": "https://plot.ly"
       },
       "data": [
        {
         "domain": {
          "x": [
           0,
           0.45
          ],
          "y": [
           0,
           1
          ]
         },
         "labels": [
          "Mahadev Traders",
          "ANURATI",
          "Fitness Mantra",
          "UNIQUE DECOR",
          "Effingo",
          "Effingo",
          "Effingo",
          "SOLARA",
          "Effingo",
          "Karma",
          "CRAFT OF INDIA",
          "FEGSY",
          "Fitness Mantra",
          "REXERA",
          "REXERA",
          "BOSTER",
          "IVAZA",
          "LET'S PLAY",
          "QUICK SHEL",
          "FEGSY",
          "FEGSY",
          "Dr Trust",
          "Effingo",
          "Yoga Land",
          "Generic",
          "VIFITKIT",
          "Puma",
          "YOGARISE",
          "Ozoy",
          "Fitness Mantra",
          "BeFit",
          "XTROKE",
          "YOGARISE",
          "Boldfit",
          "Amazon Brand - Solimo",
          "Boldfit",
          "Fitness Mantra",
          "kossto",
          "SBZ - SHOPBOOZ",
          "Fitness Mantra",
          "Boldfit",
          "Boldfit",
          "YOGARISE",
          "Boldfit",
          "Roseate",
          "OJS",
          "Fitness Mantra",
          "Fitness Mantra",
          "AmazonBasics",
          "AmazonBasics",
          "Neerav Exports",
          "Mahadev Traders",
          "Mahadev Traders",
          "FamiFiT",
          "Mahadev Traders",
          "Fashion Paradise",
          "Shree Fashion Studio",
          "Mahadev Traders",
          "Rizzer",
          "Aradhya Fab"
         ],
         "textinfo": "percent+label",
         "textposition": "inside",
         "title": {
          "text": "Sales Market Distribution including Outliers"
         },
         "type": "pie",
         "values": [
          205,
          92,
          345,
          18,
          247,
          277,
          200,
          476,
          807,
          912,
          679,
          251,
          931,
          194,
          276,
          1052,
          631,
          57,
          17,
          679,
          679,
          1405,
          484,
          164,
          464,
          907,
          137,
          778,
          1582,
          704,
          1548,
          1467,
          1321,
          1962,
          1332,
          217,
          1015,
          1801,
          103,
          1054,
          1522,
          1522,
          1576,
          1041,
          2115,
          2237,
          2175,
          2293,
          1991,
          1352,
          679,
          86,
          59,
          2,
          679,
          77,
          1,
          679,
          679,
          33
         ]
        },
        {
         "domain": {
          "x": [
           0.55,
           1
          ],
          "y": [
           0,
           1
          ]
         },
         "labels": [
          "Mahadev Traders",
          "ANURATI",
          "Fitness Mantra",
          "UNIQUE DECOR",
          "Effingo",
          "Effingo",
          "Effingo",
          "SOLARA",
          "Effingo",
          "Karma",
          "CRAFT OF INDIA",
          "FEGSY",
          "Fitness Mantra",
          "REXERA",
          "REXERA",
          "BOSTER",
          "IVAZA",
          "LET'S PLAY",
          "QUICK SHEL",
          "FEGSY",
          "FEGSY",
          "Effingo",
          "Yoga Land",
          "Generic",
          "VIFITKIT",
          "Puma",
          "YOGARISE",
          "Ozoy",
          "Fitness Mantra",
          "BeFit",
          "XTROKE",
          "YOGARISE",
          "Boldfit",
          "Amazon Brand - Solimo",
          "Boldfit",
          "Fitness Mantra",
          "kossto",
          "SBZ - SHOPBOOZ",
          "Neerav Exports",
          "Mahadev Traders",
          "Mahadev Traders",
          "FamiFiT",
          "Mahadev Traders",
          "Fashion Paradise",
          "Shree Fashion Studio",
          "Mahadev Traders",
          "Rizzer",
          "Aradhya Fab"
         ],
         "textinfo": "percent+label",
         "textposition": "inside",
         "title": {
          "text": "Sales Market Distribution excluding Outliers"
         },
         "type": "pie",
         "values": [
          205,
          92,
          345,
          18,
          247,
          277,
          200,
          476,
          807,
          912,
          679,
          251,
          931,
          194,
          276,
          1052,
          631,
          57,
          17,
          679,
          679,
          484,
          164,
          464,
          907,
          137,
          778,
          1582,
          704,
          1548,
          1467,
          1321,
          1962,
          1332,
          217,
          1015,
          1801,
          103,
          679,
          86,
          59,
          2,
          679,
          77,
          1,
          679,
          679,
          33
         ]
        }
       ],
       "layout": {
        "template": {
         "data": {
          "bar": [
           {
            "error_x": {
             "color": "#2a3f5f"
            },
            "error_y": {
             "color": "#2a3f5f"
            },
            "marker": {
             "line": {
              "color": "#E5ECF6",
              "width": 0.5
             }
            },
            "type": "bar"
           }
          ],
          "barpolar": [
           {
            "marker": {
             "line": {
              "color": "#E5ECF6",
              "width": 0.5
             }
            },
            "type": "barpolar"
           }
          ],
          "carpet": [
           {
            "aaxis": {
             "endlinecolor": "#2a3f5f",
             "gridcolor": "white",
             "linecolor": "white",
             "minorgridcolor": "white",
             "startlinecolor": "#2a3f5f"
            },
            "baxis": {
             "endlinecolor": "#2a3f5f",
             "gridcolor": "white",
             "linecolor": "white",
             "minorgridcolor": "white",
             "startlinecolor": "#2a3f5f"
            },
            "type": "carpet"
           }
          ],
          "choropleth": [
           {
            "colorbar": {
             "outlinewidth": 0,
             "ticks": ""
            },
            "type": "choropleth"
           }
          ],
          "contour": [
           {
            "colorbar": {
             "outlinewidth": 0,
             "ticks": ""
            },
            "colorscale": [
             [
              0,
              "#0d0887"
             ],
             [
              0.1111111111111111,
              "#46039f"
             ],
             [
              0.2222222222222222,
              "#7201a8"
             ],
             [
              0.3333333333333333,
              "#9c179e"
             ],
             [
              0.4444444444444444,
              "#bd3786"
             ],
             [
              0.5555555555555556,
              "#d8576b"
             ],
             [
              0.6666666666666666,
              "#ed7953"
             ],
             [
              0.7777777777777778,
              "#fb9f3a"
             ],
             [
              0.8888888888888888,
              "#fdca26"
             ],
             [
              1,
              "#f0f921"
             ]
            ],
            "type": "contour"
           }
          ],
          "contourcarpet": [
           {
            "colorbar": {
             "outlinewidth": 0,
             "ticks": ""
            },
            "type": "contourcarpet"
           }
          ],
          "heatmap": [
           {
            "colorbar": {
             "outlinewidth": 0,
             "ticks": ""
            },
            "colorscale": [
             [
              0,
              "#0d0887"
             ],
             [
              0.1111111111111111,
              "#46039f"
             ],
             [
              0.2222222222222222,
              "#7201a8"
             ],
             [
              0.3333333333333333,
              "#9c179e"
             ],
             [
              0.4444444444444444,
              "#bd3786"
             ],
             [
              0.5555555555555556,
              "#d8576b"
             ],
             [
              0.6666666666666666,
              "#ed7953"
             ],
             [
              0.7777777777777778,
              "#fb9f3a"
             ],
             [
              0.8888888888888888,
              "#fdca26"
             ],
             [
              1,
              "#f0f921"
             ]
            ],
            "type": "heatmap"
           }
          ],
          "heatmapgl": [
           {
            "colorbar": {
             "outlinewidth": 0,
             "ticks": ""
            },
            "colorscale": [
             [
              0,
              "#0d0887"
             ],
             [
              0.1111111111111111,
              "#46039f"
             ],
             [
              0.2222222222222222,
              "#7201a8"
             ],
             [
              0.3333333333333333,
              "#9c179e"
             ],
             [
              0.4444444444444444,
              "#bd3786"
             ],
             [
              0.5555555555555556,
              "#d8576b"
             ],
             [
              0.6666666666666666,
              "#ed7953"
             ],
             [
              0.7777777777777778,
              "#fb9f3a"
             ],
             [
              0.8888888888888888,
              "#fdca26"
             ],
             [
              1,
              "#f0f921"
             ]
            ],
            "type": "heatmapgl"
           }
          ],
          "histogram": [
           {
            "marker": {
             "colorbar": {
              "outlinewidth": 0,
              "ticks": ""
             }
            },
            "type": "histogram"
           }
          ],
          "histogram2d": [
           {
            "colorbar": {
             "outlinewidth": 0,
             "ticks": ""
            },
            "colorscale": [
             [
              0,
              "#0d0887"
             ],
             [
              0.1111111111111111,
              "#46039f"
             ],
             [
              0.2222222222222222,
              "#7201a8"
             ],
             [
              0.3333333333333333,
              "#9c179e"
             ],
             [
              0.4444444444444444,
              "#bd3786"
             ],
             [
              0.5555555555555556,
              "#d8576b"
             ],
             [
              0.6666666666666666,
              "#ed7953"
             ],
             [
              0.7777777777777778,
              "#fb9f3a"
             ],
             [
              0.8888888888888888,
              "#fdca26"
             ],
             [
              1,
              "#f0f921"
             ]
            ],
            "type": "histogram2d"
           }
          ],
          "histogram2dcontour": [
           {
            "colorbar": {
             "outlinewidth": 0,
             "ticks": ""
            },
            "colorscale": [
             [
              0,
              "#0d0887"
             ],
             [
              0.1111111111111111,
              "#46039f"
             ],
             [
              0.2222222222222222,
              "#7201a8"
             ],
             [
              0.3333333333333333,
              "#9c179e"
             ],
             [
              0.4444444444444444,
              "#bd3786"
             ],
             [
              0.5555555555555556,
              "#d8576b"
             ],
             [
              0.6666666666666666,
              "#ed7953"
             ],
             [
              0.7777777777777778,
              "#fb9f3a"
             ],
             [
              0.8888888888888888,
              "#fdca26"
             ],
             [
              1,
              "#f0f921"
             ]
            ],
            "type": "histogram2dcontour"
           }
          ],
          "mesh3d": [
           {
            "colorbar": {
             "outlinewidth": 0,
             "ticks": ""
            },
            "type": "mesh3d"
           }
          ],
          "parcoords": [
           {
            "line": {
             "colorbar": {
              "outlinewidth": 0,
              "ticks": ""
             }
            },
            "type": "parcoords"
           }
          ],
          "pie": [
           {
            "automargin": true,
            "type": "pie"
           }
          ],
          "scatter": [
           {
            "marker": {
             "colorbar": {
              "outlinewidth": 0,
              "ticks": ""
             }
            },
            "type": "scatter"
           }
          ],
          "scatter3d": [
           {
            "line": {
             "colorbar": {
              "outlinewidth": 0,
              "ticks": ""
             }
            },
            "marker": {
             "colorbar": {
              "outlinewidth": 0,
              "ticks": ""
             }
            },
            "type": "scatter3d"
           }
          ],
          "scattercarpet": [
           {
            "marker": {
             "colorbar": {
              "outlinewidth": 0,
              "ticks": ""
             }
            },
            "type": "scattercarpet"
           }
          ],
          "scattergeo": [
           {
            "marker": {
             "colorbar": {
              "outlinewidth": 0,
              "ticks": ""
             }
            },
            "type": "scattergeo"
           }
          ],
          "scattergl": [
           {
            "marker": {
             "colorbar": {
              "outlinewidth": 0,
              "ticks": ""
             }
            },
            "type": "scattergl"
           }
          ],
          "scattermapbox": [
           {
            "marker": {
             "colorbar": {
              "outlinewidth": 0,
              "ticks": ""
             }
            },
            "type": "scattermapbox"
           }
          ],
          "scatterpolar": [
           {
            "marker": {
             "colorbar": {
              "outlinewidth": 0,
              "ticks": ""
             }
            },
            "type": "scatterpolar"
           }
          ],
          "scatterpolargl": [
           {
            "marker": {
             "colorbar": {
              "outlinewidth": 0,
              "ticks": ""
             }
            },
            "type": "scatterpolargl"
           }
          ],
          "scatterternary": [
           {
            "marker": {
             "colorbar": {
              "outlinewidth": 0,
              "ticks": ""
             }
            },
            "type": "scatterternary"
           }
          ],
          "surface": [
           {
            "colorbar": {
             "outlinewidth": 0,
             "ticks": ""
            },
            "colorscale": [
             [
              0,
              "#0d0887"
             ],
             [
              0.1111111111111111,
              "#46039f"
             ],
             [
              0.2222222222222222,
              "#7201a8"
             ],
             [
              0.3333333333333333,
              "#9c179e"
             ],
             [
              0.4444444444444444,
              "#bd3786"
             ],
             [
              0.5555555555555556,
              "#d8576b"
             ],
             [
              0.6666666666666666,
              "#ed7953"
             ],
             [
              0.7777777777777778,
              "#fb9f3a"
             ],
             [
              0.8888888888888888,
              "#fdca26"
             ],
             [
              1,
              "#f0f921"
             ]
            ],
            "type": "surface"
           }
          ],
          "table": [
           {
            "cells": {
             "fill": {
              "color": "#EBF0F8"
             },
             "line": {
              "color": "white"
             }
            },
            "header": {
             "fill": {
              "color": "#C8D4E3"
             },
             "line": {
              "color": "white"
             }
            },
            "type": "table"
           }
          ]
         },
         "layout": {
          "annotationdefaults": {
           "arrowcolor": "#2a3f5f",
           "arrowhead": 0,
           "arrowwidth": 1
          },
          "autotypenumbers": "strict",
          "coloraxis": {
           "colorbar": {
            "outlinewidth": 0,
            "ticks": ""
           }
          },
          "colorscale": {
           "diverging": [
            [
             0,
             "#8e0152"
            ],
            [
             0.1,
             "#c51b7d"
            ],
            [
             0.2,
             "#de77ae"
            ],
            [
             0.3,
             "#f1b6da"
            ],
            [
             0.4,
             "#fde0ef"
            ],
            [
             0.5,
             "#f7f7f7"
            ],
            [
             0.6,
             "#e6f5d0"
            ],
            [
             0.7,
             "#b8e186"
            ],
            [
             0.8,
             "#7fbc41"
            ],
            [
             0.9,
             "#4d9221"
            ],
            [
             1,
             "#276419"
            ]
           ],
           "sequential": [
            [
             0,
             "#0d0887"
            ],
            [
             0.1111111111111111,
             "#46039f"
            ],
            [
             0.2222222222222222,
             "#7201a8"
            ],
            [
             0.3333333333333333,
             "#9c179e"
            ],
            [
             0.4444444444444444,
             "#bd3786"
            ],
            [
             0.5555555555555556,
             "#d8576b"
            ],
            [
             0.6666666666666666,
             "#ed7953"
            ],
            [
             0.7777777777777778,
             "#fb9f3a"
            ],
            [
             0.8888888888888888,
             "#fdca26"
            ],
            [
             1,
             "#f0f921"
            ]
           ],
           "sequentialminus": [
            [
             0,
             "#0d0887"
            ],
            [
             0.1111111111111111,
             "#46039f"
            ],
            [
             0.2222222222222222,
             "#7201a8"
            ],
            [
             0.3333333333333333,
             "#9c179e"
            ],
            [
             0.4444444444444444,
             "#bd3786"
            ],
            [
             0.5555555555555556,
             "#d8576b"
            ],
            [
             0.6666666666666666,
             "#ed7953"
            ],
            [
             0.7777777777777778,
             "#fb9f3a"
            ],
            [
             0.8888888888888888,
             "#fdca26"
            ],
            [
             1,
             "#f0f921"
            ]
           ]
          },
          "colorway": [
           "#636efa",
           "#EF553B",
           "#00cc96",
           "#ab63fa",
           "#FFA15A",
           "#19d3f3",
           "#FF6692",
           "#B6E880",
           "#FF97FF",
           "#FECB52"
          ],
          "font": {
           "color": "#2a3f5f"
          },
          "geo": {
           "bgcolor": "white",
           "lakecolor": "white",
           "landcolor": "#E5ECF6",
           "showlakes": true,
           "showland": true,
           "subunitcolor": "white"
          },
          "hoverlabel": {
           "align": "left"
          },
          "hovermode": "closest",
          "mapbox": {
           "style": "light"
          },
          "paper_bgcolor": "white",
          "plot_bgcolor": "#E5ECF6",
          "polar": {
           "angularaxis": {
            "gridcolor": "white",
            "linecolor": "white",
            "ticks": ""
           },
           "bgcolor": "#E5ECF6",
           "radialaxis": {
            "gridcolor": "white",
            "linecolor": "white",
            "ticks": ""
           }
          },
          "scene": {
           "xaxis": {
            "backgroundcolor": "#E5ECF6",
            "gridcolor": "white",
            "gridwidth": 2,
            "linecolor": "white",
            "showbackground": true,
            "ticks": "",
            "zerolinecolor": "white"
           },
           "yaxis": {
            "backgroundcolor": "#E5ECF6",
            "gridcolor": "white",
            "gridwidth": 2,
            "linecolor": "white",
            "showbackground": true,
            "ticks": "",
            "zerolinecolor": "white"
           },
           "zaxis": {
            "backgroundcolor": "#E5ECF6",
            "gridcolor": "white",
            "gridwidth": 2,
            "linecolor": "white",
            "showbackground": true,
            "ticks": "",
            "zerolinecolor": "white"
           }
          },
          "shapedefaults": {
           "line": {
            "color": "#2a3f5f"
           }
          },
          "ternary": {
           "aaxis": {
            "gridcolor": "white",
            "linecolor": "white",
            "ticks": ""
           },
           "baxis": {
            "gridcolor": "white",
            "linecolor": "white",
            "ticks": ""
           },
           "bgcolor": "#E5ECF6",
           "caxis": {
            "gridcolor": "white",
            "linecolor": "white",
            "ticks": ""
           }
          },
          "title": {
           "x": 0.05
          },
          "xaxis": {
           "automargin": true,
           "gridcolor": "white",
           "linecolor": "white",
           "ticks": "",
           "title": {
            "standoff": 15
           },
           "zerolinecolor": "white",
           "zerolinewidth": 2
          },
          "yaxis": {
           "automargin": true,
           "gridcolor": "white",
           "linecolor": "white",
           "ticks": "",
           "title": {
            "standoff": 15
           },
           "zerolinecolor": "white",
           "zerolinewidth": 2
          }
         }
        }
       }
      },
      "text/html": [
       "<div>                            <div id=\"95d64f4b-3e41-4eab-819a-9fb69ac3e89e\" class=\"plotly-graph-div\" style=\"height:525px; width:100%;\"></div>            <script type=\"text/javascript\">                require([\"plotly\"], function(Plotly) {                    window.PLOTLYENV=window.PLOTLYENV || {};                                    if (document.getElementById(\"95d64f4b-3e41-4eab-819a-9fb69ac3e89e\")) {                    Plotly.newPlot(                        \"95d64f4b-3e41-4eab-819a-9fb69ac3e89e\",                        [{\"domain\": {\"x\": [0.0, 0.45], \"y\": [0.0, 1.0]}, \"labels\": [\"Mahadev Traders\", \"ANURATI\", \"Fitness Mantra\", \"UNIQUE DECOR\", \"Effingo\", \"Effingo\", \"Effingo\", \"SOLARA\", \"Effingo\", \"Karma\", \"CRAFT OF INDIA\", \"FEGSY\", \"Fitness Mantra\", \"REXERA\", \"REXERA\", \"BOSTER\", \"IVAZA\", \"LET'S PLAY\", \"QUICK SHEL\", \"FEGSY\", \"FEGSY\", \"Dr Trust\", \"Effingo\", \"Yoga Land\", \"Generic\", \"VIFITKIT\", \"Puma\", \"YOGARISE\", \"Ozoy\", \"Fitness Mantra\", \"BeFit\", \"XTROKE\", \"YOGARISE\", \"Boldfit\", \"Amazon Brand - Solimo\", \"Boldfit\", \"Fitness Mantra\", \"kossto\", \"SBZ - SHOPBOOZ\", \"Fitness Mantra\", \"Boldfit\", \"Boldfit\", \"YOGARISE\", \"Boldfit\", \"Roseate\", \"OJS\", \"Fitness Mantra\", \"Fitness Mantra\", \"AmazonBasics\", \"AmazonBasics\", \"Neerav Exports\", \"Mahadev Traders\", \"Mahadev Traders\", \"FamiFiT\", \"Mahadev Traders\", \"Fashion Paradise\", \"Shree Fashion Studio\", \"Mahadev Traders\", \"Rizzer\", \"Aradhya Fab\"], \"textinfo\": \"percent+label\", \"textposition\": \"inside\", \"title\": {\"text\": \"Sales Market Distribution including Outliers\"}, \"type\": \"pie\", \"values\": [205.0, 92.0, 345.0, 18.0, 247.0, 277.0, 200.0, 476.0, 807.0, 912.0, 679.0, 251.0, 931.0, 194.0, 276.0, 1052.0, 631.0, 57.0, 17.0, 679.0, 679.0, 1405.0, 484.0, 164.0, 464.0, 907.0, 137.0, 778.0, 1582.0, 704.0, 1548.0, 1467.0, 1321.0, 1962.0, 1332.0, 217.0, 1015.0, 1801.0, 103.0, 1054.0, 1522.0, 1522.0, 1576.0, 1041.0, 2115.0, 2237.0, 2175.0, 2293.0, 1991.0, 1352.0, 679.0, 86.0, 59.0, 2.0, 679.0, 77.0, 1.0, 679.0, 679.0, 33.0]}, {\"domain\": {\"x\": [0.55, 1.0], \"y\": [0.0, 1.0]}, \"labels\": [\"Mahadev Traders\", \"ANURATI\", \"Fitness Mantra\", \"UNIQUE DECOR\", \"Effingo\", \"Effingo\", \"Effingo\", \"SOLARA\", \"Effingo\", \"Karma\", \"CRAFT OF INDIA\", \"FEGSY\", \"Fitness Mantra\", \"REXERA\", \"REXERA\", \"BOSTER\", \"IVAZA\", \"LET'S PLAY\", \"QUICK SHEL\", \"FEGSY\", \"FEGSY\", \"Effingo\", \"Yoga Land\", \"Generic\", \"VIFITKIT\", \"Puma\", \"YOGARISE\", \"Ozoy\", \"Fitness Mantra\", \"BeFit\", \"XTROKE\", \"YOGARISE\", \"Boldfit\", \"Amazon Brand - Solimo\", \"Boldfit\", \"Fitness Mantra\", \"kossto\", \"SBZ - SHOPBOOZ\", \"Neerav Exports\", \"Mahadev Traders\", \"Mahadev Traders\", \"FamiFiT\", \"Mahadev Traders\", \"Fashion Paradise\", \"Shree Fashion Studio\", \"Mahadev Traders\", \"Rizzer\", \"Aradhya Fab\"], \"textinfo\": \"percent+label\", \"textposition\": \"inside\", \"title\": {\"text\": \"Sales Market Distribution excluding Outliers\"}, \"type\": \"pie\", \"values\": [205.0, 92.0, 345.0, 18.0, 247.0, 277.0, 200.0, 476.0, 807.0, 912.0, 679.0, 251.0, 931.0, 194.0, 276.0, 1052.0, 631.0, 57.0, 17.0, 679.0, 679.0, 484.0, 164.0, 464.0, 907.0, 137.0, 778.0, 1582.0, 704.0, 1548.0, 1467.0, 1321.0, 1962.0, 1332.0, 217.0, 1015.0, 1801.0, 103.0, 679.0, 86.0, 59.0, 2.0, 679.0, 77.0, 1.0, 679.0, 679.0, 33.0]}],                        {\"template\": {\"data\": {\"bar\": [{\"error_x\": {\"color\": \"#2a3f5f\"}, \"error_y\": {\"color\": \"#2a3f5f\"}, \"marker\": {\"line\": {\"color\": \"#E5ECF6\", \"width\": 0.5}}, \"type\": \"bar\"}], \"barpolar\": [{\"marker\": {\"line\": {\"color\": \"#E5ECF6\", \"width\": 0.5}}, \"type\": \"barpolar\"}], \"carpet\": [{\"aaxis\": {\"endlinecolor\": \"#2a3f5f\", \"gridcolor\": \"white\", \"linecolor\": \"white\", \"minorgridcolor\": \"white\", \"startlinecolor\": \"#2a3f5f\"}, \"baxis\": {\"endlinecolor\": \"#2a3f5f\", \"gridcolor\": \"white\", \"linecolor\": \"white\", \"minorgridcolor\": \"white\", \"startlinecolor\": \"#2a3f5f\"}, \"type\": \"carpet\"}], \"choropleth\": [{\"colorbar\": {\"outlinewidth\": 0, \"ticks\": \"\"}, \"type\": \"choropleth\"}], \"contour\": [{\"colorbar\": {\"outlinewidth\": 0, \"ticks\": \"\"}, \"colorscale\": [[0.0, \"#0d0887\"], [0.1111111111111111, \"#46039f\"], [0.2222222222222222, \"#7201a8\"], [0.3333333333333333, \"#9c179e\"], [0.4444444444444444, \"#bd3786\"], [0.5555555555555556, \"#d8576b\"], [0.6666666666666666, \"#ed7953\"], [0.7777777777777778, \"#fb9f3a\"], [0.8888888888888888, \"#fdca26\"], [1.0, \"#f0f921\"]], \"type\": \"contour\"}], \"contourcarpet\": [{\"colorbar\": {\"outlinewidth\": 0, \"ticks\": \"\"}, \"type\": \"contourcarpet\"}], \"heatmap\": [{\"colorbar\": {\"outlinewidth\": 0, \"ticks\": \"\"}, \"colorscale\": [[0.0, \"#0d0887\"], [0.1111111111111111, \"#46039f\"], [0.2222222222222222, \"#7201a8\"], [0.3333333333333333, \"#9c179e\"], [0.4444444444444444, \"#bd3786\"], [0.5555555555555556, \"#d8576b\"], [0.6666666666666666, \"#ed7953\"], [0.7777777777777778, \"#fb9f3a\"], [0.8888888888888888, \"#fdca26\"], [1.0, \"#f0f921\"]], \"type\": \"heatmap\"}], \"heatmapgl\": [{\"colorbar\": {\"outlinewidth\": 0, \"ticks\": \"\"}, \"colorscale\": [[0.0, \"#0d0887\"], [0.1111111111111111, \"#46039f\"], [0.2222222222222222, \"#7201a8\"], [0.3333333333333333, \"#9c179e\"], [0.4444444444444444, \"#bd3786\"], [0.5555555555555556, \"#d8576b\"], [0.6666666666666666, \"#ed7953\"], [0.7777777777777778, \"#fb9f3a\"], [0.8888888888888888, \"#fdca26\"], [1.0, \"#f0f921\"]], \"type\": \"heatmapgl\"}], \"histogram\": [{\"marker\": {\"colorbar\": {\"outlinewidth\": 0, \"ticks\": \"\"}}, \"type\": \"histogram\"}], \"histogram2d\": [{\"colorbar\": {\"outlinewidth\": 0, \"ticks\": \"\"}, \"colorscale\": [[0.0, \"#0d0887\"], [0.1111111111111111, \"#46039f\"], [0.2222222222222222, \"#7201a8\"], [0.3333333333333333, \"#9c179e\"], [0.4444444444444444, \"#bd3786\"], [0.5555555555555556, \"#d8576b\"], [0.6666666666666666, \"#ed7953\"], [0.7777777777777778, \"#fb9f3a\"], [0.8888888888888888, \"#fdca26\"], [1.0, \"#f0f921\"]], \"type\": \"histogram2d\"}], \"histogram2dcontour\": [{\"colorbar\": {\"outlinewidth\": 0, \"ticks\": \"\"}, \"colorscale\": [[0.0, \"#0d0887\"], [0.1111111111111111, \"#46039f\"], [0.2222222222222222, \"#7201a8\"], [0.3333333333333333, \"#9c179e\"], [0.4444444444444444, \"#bd3786\"], [0.5555555555555556, \"#d8576b\"], [0.6666666666666666, \"#ed7953\"], [0.7777777777777778, \"#fb9f3a\"], [0.8888888888888888, \"#fdca26\"], [1.0, \"#f0f921\"]], \"type\": \"histogram2dcontour\"}], \"mesh3d\": [{\"colorbar\": {\"outlinewidth\": 0, \"ticks\": \"\"}, \"type\": \"mesh3d\"}], \"parcoords\": [{\"line\": {\"colorbar\": {\"outlinewidth\": 0, \"ticks\": \"\"}}, \"type\": \"parcoords\"}], \"pie\": [{\"automargin\": true, \"type\": \"pie\"}], \"scatter\": [{\"marker\": {\"colorbar\": {\"outlinewidth\": 0, \"ticks\": \"\"}}, \"type\": \"scatter\"}], \"scatter3d\": [{\"line\": {\"colorbar\": {\"outlinewidth\": 0, \"ticks\": \"\"}}, \"marker\": {\"colorbar\": {\"outlinewidth\": 0, \"ticks\": \"\"}}, \"type\": \"scatter3d\"}], \"scattercarpet\": [{\"marker\": {\"colorbar\": {\"outlinewidth\": 0, \"ticks\": \"\"}}, \"type\": \"scattercarpet\"}], \"scattergeo\": [{\"marker\": {\"colorbar\": {\"outlinewidth\": 0, \"ticks\": \"\"}}, \"type\": \"scattergeo\"}], \"scattergl\": [{\"marker\": {\"colorbar\": {\"outlinewidth\": 0, \"ticks\": \"\"}}, \"type\": \"scattergl\"}], \"scattermapbox\": [{\"marker\": {\"colorbar\": {\"outlinewidth\": 0, \"ticks\": \"\"}}, \"type\": \"scattermapbox\"}], \"scatterpolar\": [{\"marker\": {\"colorbar\": {\"outlinewidth\": 0, \"ticks\": \"\"}}, \"type\": \"scatterpolar\"}], \"scatterpolargl\": [{\"marker\": {\"colorbar\": {\"outlinewidth\": 0, \"ticks\": \"\"}}, \"type\": \"scatterpolargl\"}], \"scatterternary\": [{\"marker\": {\"colorbar\": {\"outlinewidth\": 0, \"ticks\": \"\"}}, \"type\": \"scatterternary\"}], \"surface\": [{\"colorbar\": {\"outlinewidth\": 0, \"ticks\": \"\"}, \"colorscale\": [[0.0, \"#0d0887\"], [0.1111111111111111, \"#46039f\"], [0.2222222222222222, \"#7201a8\"], [0.3333333333333333, \"#9c179e\"], [0.4444444444444444, \"#bd3786\"], [0.5555555555555556, \"#d8576b\"], [0.6666666666666666, \"#ed7953\"], [0.7777777777777778, \"#fb9f3a\"], [0.8888888888888888, \"#fdca26\"], [1.0, \"#f0f921\"]], \"type\": \"surface\"}], \"table\": [{\"cells\": {\"fill\": {\"color\": \"#EBF0F8\"}, \"line\": {\"color\": \"white\"}}, \"header\": {\"fill\": {\"color\": \"#C8D4E3\"}, \"line\": {\"color\": \"white\"}}, \"type\": \"table\"}]}, \"layout\": {\"annotationdefaults\": {\"arrowcolor\": \"#2a3f5f\", \"arrowhead\": 0, \"arrowwidth\": 1}, \"autotypenumbers\": \"strict\", \"coloraxis\": {\"colorbar\": {\"outlinewidth\": 0, \"ticks\": \"\"}}, \"colorscale\": {\"diverging\": [[0, \"#8e0152\"], [0.1, \"#c51b7d\"], [0.2, \"#de77ae\"], [0.3, \"#f1b6da\"], [0.4, \"#fde0ef\"], [0.5, \"#f7f7f7\"], [0.6, \"#e6f5d0\"], [0.7, \"#b8e186\"], [0.8, \"#7fbc41\"], [0.9, \"#4d9221\"], [1, \"#276419\"]], \"sequential\": [[0.0, \"#0d0887\"], [0.1111111111111111, \"#46039f\"], [0.2222222222222222, \"#7201a8\"], [0.3333333333333333, \"#9c179e\"], [0.4444444444444444, \"#bd3786\"], [0.5555555555555556, \"#d8576b\"], [0.6666666666666666, \"#ed7953\"], [0.7777777777777778, \"#fb9f3a\"], [0.8888888888888888, \"#fdca26\"], [1.0, \"#f0f921\"]], \"sequentialminus\": [[0.0, \"#0d0887\"], [0.1111111111111111, \"#46039f\"], [0.2222222222222222, \"#7201a8\"], [0.3333333333333333, \"#9c179e\"], [0.4444444444444444, \"#bd3786\"], [0.5555555555555556, \"#d8576b\"], [0.6666666666666666, \"#ed7953\"], [0.7777777777777778, \"#fb9f3a\"], [0.8888888888888888, \"#fdca26\"], [1.0, \"#f0f921\"]]}, \"colorway\": [\"#636efa\", \"#EF553B\", \"#00cc96\", \"#ab63fa\", \"#FFA15A\", \"#19d3f3\", \"#FF6692\", \"#B6E880\", \"#FF97FF\", \"#FECB52\"], \"font\": {\"color\": \"#2a3f5f\"}, \"geo\": {\"bgcolor\": \"white\", \"lakecolor\": \"white\", \"landcolor\": \"#E5ECF6\", \"showlakes\": true, \"showland\": true, \"subunitcolor\": \"white\"}, \"hoverlabel\": {\"align\": \"left\"}, \"hovermode\": \"closest\", \"mapbox\": {\"style\": \"light\"}, \"paper_bgcolor\": \"white\", \"plot_bgcolor\": \"#E5ECF6\", \"polar\": {\"angularaxis\": {\"gridcolor\": \"white\", \"linecolor\": \"white\", \"ticks\": \"\"}, \"bgcolor\": \"#E5ECF6\", \"radialaxis\": {\"gridcolor\": \"white\", \"linecolor\": \"white\", \"ticks\": \"\"}}, \"scene\": {\"xaxis\": {\"backgroundcolor\": \"#E5ECF6\", \"gridcolor\": \"white\", \"gridwidth\": 2, \"linecolor\": \"white\", \"showbackground\": true, \"ticks\": \"\", \"zerolinecolor\": \"white\"}, \"yaxis\": {\"backgroundcolor\": \"#E5ECF6\", \"gridcolor\": \"white\", \"gridwidth\": 2, \"linecolor\": \"white\", \"showbackground\": true, \"ticks\": \"\", \"zerolinecolor\": \"white\"}, \"zaxis\": {\"backgroundcolor\": \"#E5ECF6\", \"gridcolor\": \"white\", \"gridwidth\": 2, \"linecolor\": \"white\", \"showbackground\": true, \"ticks\": \"\", \"zerolinecolor\": \"white\"}}, \"shapedefaults\": {\"line\": {\"color\": \"#2a3f5f\"}}, \"ternary\": {\"aaxis\": {\"gridcolor\": \"white\", \"linecolor\": \"white\", \"ticks\": \"\"}, \"baxis\": {\"gridcolor\": \"white\", \"linecolor\": \"white\", \"ticks\": \"\"}, \"bgcolor\": \"#E5ECF6\", \"caxis\": {\"gridcolor\": \"white\", \"linecolor\": \"white\", \"ticks\": \"\"}}, \"title\": {\"x\": 0.05}, \"xaxis\": {\"automargin\": true, \"gridcolor\": \"white\", \"linecolor\": \"white\", \"ticks\": \"\", \"title\": {\"standoff\": 15}, \"zerolinecolor\": \"white\", \"zerolinewidth\": 2}, \"yaxis\": {\"automargin\": true, \"gridcolor\": \"white\", \"linecolor\": \"white\", \"ticks\": \"\", \"title\": {\"standoff\": 15}, \"zerolinecolor\": \"white\", \"zerolinewidth\": 2}}}},                        {\"responsive\": true}                    ).then(function(){\n",
       "                            \n",
       "var gd = document.getElementById('95d64f4b-3e41-4eab-819a-9fb69ac3e89e');\n",
       "var x = new MutationObserver(function (mutations, observer) {{\n",
       "        var display = window.getComputedStyle(gd).display;\n",
       "        if (!display || display === 'none') {{\n",
       "            console.log([gd, 'removed!']);\n",
       "            Plotly.purge(gd);\n",
       "            observer.disconnect();\n",
       "        }}\n",
       "}});\n",
       "\n",
       "// Listen for the removal of the full notebook cells\n",
       "var notebookContainer = gd.closest('#notebook-container');\n",
       "if (notebookContainer) {{\n",
       "    x.observe(notebookContainer, {childList: true});\n",
       "}}\n",
       "\n",
       "// Listen for the clearing of the current output cell\n",
       "var outputEl = gd.closest('.output');\n",
       "if (outputEl) {{\n",
       "    x.observe(outputEl, {childList: true});\n",
       "}}\n",
       "\n",
       "                        })                };                });            </script>        </div>"
      ]
     },
     "metadata": {},
     "output_type": "display_data"
    },
    {
     "name": "stdout",
     "output_type": "stream",
     "text": [
      "Market Share of Generic Brands in distribution with outliers = \u001b[34m0.4502000490026523\u001b[0m %\n",
      "Market Share of Generic Brands in distribution without outliers = \u001b[34m0.8165156858134411\u001b[0m %\n",
      "Median revenue per seller for 30 days = \u001b[34m313701.0\u001b[0m\n",
      "Median sales for products below 25 percentile Review count = \u001b[34m264.0\u001b[0m\n",
      "Median Revenue for products below 25 percentile Review count = \u001b[34m174781.5\u001b[0m\n",
      "Median sales of products below 25 percentile Revenue = \u001b[34m58.0\u001b[0m\n",
      "Median Revenue of products below 25 percentile Revenue = \u001b[34m18022.0\u001b[0m\n",
      "The median price of the product = \u001b[34m472.0\u001b[0m\n",
      "The median FBA fees of the product = \u001b[34m221.73\u001b[0m\n",
      "% of FBA cost = \u001b[34m46.976694915254235\u001b[0m\n",
      "Median Weight of the product = \u001b[34m1.1\u001b[0m\n",
      "Median Review Count of the product = \u001b[34m128.75\u001b[0m\n",
      "Median dimensions of product = \u001b[34m3.9\u001b[0m , \u001b[34m19.7\u001b[0m , \u001b[34m2.4\u001b[0m\n"
     ]
    }
   ],
   "source": [
    "#DO NOT TOUCH THIS CELL\n",
    "#Importing the required libraries\n",
    "import numpy as np \n",
    "import pandas as pd \n",
    "from termcolor import colored\n",
    "color=\"blue\"\n",
    "#importing the data \n",
    "data=pd.read_csv(filepath,delimiter=\";\")\n",
    "if len(data.columns)<20:\n",
    "    data=pd.read_csv(filepath)\n",
    "data.head()\n",
    "\n",
    "#Sorting according to descending order of review count\n",
    "data=data.sort_values(by=['Review Count'],ascending=True)\n",
    "data.head(5)\n",
    "\n",
    "#converting data into required data types\n",
    "data.Revenue=data.Revenue.apply(lambda x: str(x).replace(\",\",\"\")).astype(\"float64\")\n",
    "data[\"FBA Fees\"]=data[\"FBA Fees\"].apply(lambda x: str(x).replace(\"₹\",\"\")).astype(\"float64\")\n",
    "data[\"Sales\"]=data[\"Sales\"].apply(lambda x: str(x).replace(\",\",\"\")).astype(\"float64\")\n",
    "data[\"Price\"]=data[\"Price\"].apply(lambda x: str(x).replace(\"₹\",\"\").replace(\",\",\"\")).astype(\"float64\")\n",
    "\n",
    "data.describe()\n",
    "\n",
    "#checking for null values\n",
    "data.isnull().sum()\n",
    "\n",
    "data.columns\n",
    "\n",
    "#seems like there are a lot of null values in some of the columns, and they give us no data, so removing that data an\n",
    "#filling the rest with median.\n",
    "ddata=data[['Product Details', 'ASIN', 'Brand', 'Price', 'Sales', 'Revenue', 'BSR',\"FBA Fees\",\n",
    "        'Active Sellers #', 'Ratings', 'Review Count', 'Images',\n",
    "       'Review velocity', 'Category', 'Delivery', 'Creation Date']]\n",
    "ddata=ddata.fillna(ddata.median())\n",
    "\n",
    "np.quantile(ddata.Revenue,0.9)\n",
    "\n",
    "import plotly.express as px\n",
    "px.box(ddata.Revenue)\n",
    "\n",
    "#this will remove all the outliers using the box plot method \n",
    "def remove_outliers(series):\n",
    "    iqr=np.quantile(series,0.75)-np.quantile(series,0.25)\n",
    "    upperline=np.quantile(series,0.75)+1.5*iqr\n",
    "    lowerline=np.quantile(series,0.75)-1.5*iqr\n",
    "    return upperline,max(0,lowerline)\n",
    "\n",
    "remove_outliers(ddata.Revenue)\n",
    "\n",
    "#let's remove outliers in Revenue and Review count\n",
    "ddata=ddata[(ddata.Revenue<remove_outliers(ddata.Revenue)[0]) & (ddata.Revenue>remove_outliers(ddata.Revenue)[1])]\n",
    "ddata=ddata[(ddata[\"Review Count\"]<remove_outliers(ddata[\"Review Count\"])[0]) & (ddata[\"Review Count\"]>remove_outliers(ddata[\"Review Count\"])[1])]\n",
    "\n",
    "ddata.shape\n",
    "\n",
    "#lets look at the statistics of the data without outliers\n",
    "ddata.describe()\n",
    "\n",
    "#let's get the market share distribution vizualisation\n",
    "from plotly.subplots import make_subplots\n",
    "import plotly.graph_objects as go\n",
    "fig = make_subplots(rows=1, cols=2,specs=[[{\"type\": \"pie\"}, {\"type\": \"pie\"}]])\n",
    "fig.add_trace(\n",
    "    go.Pie(values=list(data.fillna(data.median()).Revenue),\n",
    "    labels=data.fillna(data.median()).Brand,\n",
    "    title=\"Revenue Market Distribution including Outliers\"),\n",
    "    row=1,col=1)\n",
    "fig.add_trace(\n",
    "    go.Pie(values=ddata.Revenue, labels=ddata.Brand,title=\"Revenue Market Distribution excluding Outliers\"),\n",
    "    row=1, col=2\n",
    ")\n",
    "fig.update_traces(textposition='inside', textinfo='percent+label')\n",
    "fig.show()\n",
    "\n",
    "#let's get the market share distribution vizualisation\n",
    "from plotly.subplots import make_subplots\n",
    "import plotly.graph_objects as go\n",
    "fig = make_subplots(rows=1, cols=2,specs=[[{\"type\": \"pie\"}, {\"type\": \"pie\"}]])\n",
    "fig.add_trace(\n",
    "    go.Pie(values=list(data.fillna(data.median()).Sales),\n",
    "    labels=data.fillna(data.median()).Brand,\n",
    "    title=\"Sales Market Distribution including Outliers\"),\n",
    "    row=1,col=1)\n",
    "fig.add_trace(\n",
    "    go.Pie(values=ddata.Sales, labels=ddata.Brand,title=\"Sales Market Distribution excluding Outliers\"),\n",
    "    row=1, col=2\n",
    ")\n",
    "fig.update_traces(textposition='inside', textinfo='percent+label')\n",
    "fig.show()\n",
    "\n",
    "print(\"Market Share of Generic Brands in distribution with outliers =\",\n",
    "      colored(100*data[data.Brand==\"Generic\"].Revenue.sum()/data.Revenue.sum(),color),\"%\")\n",
    "\n",
    "print(\"Market Share of Generic Brands in distribution without outliers =\",\n",
    "      colored(100*ddata[ddata.Brand==\"Generic\"].Revenue.sum()/ddata.Revenue.sum(),color),\"%\")\n",
    "\n",
    "print(\"Median revenue per seller for 30 days =\",colored(ddata.Revenue.median(),color))\n",
    "\n",
    "# Let's check how the revenue of sellers with less reviews are doing, for that let's look at the 25% percentile\n",
    "np.percentile(ddata[\"Review Count\"],25)\n",
    "\n",
    "#Let's check how the sellers below 25 percentile are doing \n",
    "print(\"Median sales for products below 25 percentile Review count =\",\n",
    "      colored(ddata[ddata[\"Review Count\"]<np.percentile(ddata[\"Review Count\"],25)].Sales.median(),color))\n",
    "print(\"Median Revenue for products below 25 percentile Review count =\",\n",
    "      colored(ddata[ddata[\"Review Count\"]<np.percentile(ddata[\"Review Count\"],25)].Revenue.median(),color))\n",
    "\n",
    "#median Revenue of the first quartile Revenue\n",
    "print(\"Median sales of products below 25 percentile Revenue =\",\n",
    "      colored(ddata[ddata[\"Revenue\"]<np.percentile(ddata[\"Revenue\"],25)].Sales.median(),color))\n",
    "print(\"Median Revenue of products below 25 percentile Revenue =\",\n",
    "      colored(ddata[ddata[\"Revenue\"]<np.percentile(ddata[\"Revenue\"],25)].Revenue.median(),color))\n",
    "\n",
    "px.bar(ddata.groupby(\"Brand\").sum().Revenue.sort_values()[0:10],title=\"Revenues of Least 10 Brands\")\n",
    "\n",
    "print(\"The median price of the product =\",colored(ddata.Price.median(),color))\n",
    "print(\"The median FBA fees of the product =\",colored(ddata[\"FBA Fees\"].median(),color))\n",
    "print(\"% of FBA cost =\",colored(100*ddata[\"FBA Fees\"].median()/ddata.Price.median(),color))\n",
    "\n",
    "print(\"Median Weight of the product =\",colored(data.Weight.dropna().median(),color))\n",
    "\n",
    "print(\"Median Review Count of the product =\",colored(ddata[\"Review Count\"].median(),color))\n",
    "\n",
    "#Finding the median dimensions of the product\n",
    "dimdf=pd.DataFrame(list(data.Dimensions.str.split(\"x\").dropna()),columns=[\"l\",\"w\",\"h\"])\n",
    "for x in dimdf.columns:\n",
    "    dimdf[x]=dimdf[x].astype(\"float32\")  \n",
    "dimdf.median()\n",
    "print(\"Median dimensions of product =\",colored(dimdf.median()[0],color),\",\",\n",
    "      colored(dimdf.median()[1],color),\",\",colored(dimdf.median()[2],color))\n",
    "\n",
    "\n",
    "\n"
   ]
  },
  {
   "cell_type": "code",
   "execution_count": null,
   "metadata": {},
   "outputs": [],
   "source": []
  }
 ],
 "metadata": {
  "kernelspec": {
   "display_name": "Python 3",
   "language": "python",
   "name": "python3"
  },
  "language_info": {
   "codemirror_mode": {
    "name": "ipython",
    "version": 3
   },
   "file_extension": ".py",
   "mimetype": "text/x-python",
   "name": "python",
   "nbconvert_exporter": "python",
   "pygments_lexer": "ipython3",
   "version": "3.8.5"
  }
 },
 "nbformat": 4,
 "nbformat_minor": 4
}
